{
 "cells": [
  {
   "cell_type": "code",
   "execution_count": 3,
   "metadata": {},
   "outputs": [],
   "source": [
    "from __future__ import print_function\n",
    "import boto3\n",
    "import os\n",
    "import pandas as pd\n",
    "import json\n",
    "import time\n",
    "from decimal import Decimal\n",
    "from boto3.dynamodb.conditions import Key, Attr"
   ]
  },
  {
   "cell_type": "code",
   "execution_count": 4,
   "metadata": {},
   "outputs": [],
   "source": [
    "dynamodb = boto3.resource(\"dynamodb\", region_name = \"us-west-1\")"
   ]
  },
  {
   "cell_type": "markdown",
   "metadata": {},
   "source": [
    "## Creates table with hash and range keys"
   ]
  },
  {
   "cell_type": "code",
   "execution_count": 47,
   "metadata": {},
   "outputs": [],
   "source": [
    "table = dynamodb.create_table(\n",
    "    TableName='jobs',\n",
    "    KeySchema=[\n",
    "        {\n",
    "            'AttributeName': 'job_title',\n",
    "            'KeyType': 'HASH'\n",
    "        },\n",
    "        {\n",
    "            'AttributeName': 'company_location',\n",
    "            'KeyType': 'RANGE'\n",
    "        }\n",
    "    ],\n",
    "    AttributeDefinitions=[\n",
    "        {\n",
    "            'AttributeName': 'job_title',\n",
    "            'AttributeType': 'S'\n",
    "        },\n",
    "        {\n",
    "            'AttributeName': 'company_location',\n",
    "            'AttributeType': 'S'\n",
    "        },\n",
    "    ],\n",
    "    ProvisionedThroughput={\n",
    "        'ReadCapacityUnits': 20,\n",
    "        'WriteCapacityUnits': 20\n",
    "    }\n",
    ")\n"
   ]
  },
  {
   "cell_type": "code",
   "execution_count": 7,
   "metadata": {},
   "outputs": [
    {
     "name": "stdout",
     "output_type": "stream",
     "text": [
      "20979\n"
     ]
    }
   ],
   "source": [
    "\n",
    "# Wait until the table exists.\n",
    "#table.meta.client.get_waiter('table_exists').wait(TableName='jobs')\n",
    "\n",
    "# Print out some data about the table.\n",
    "print(table.item_count)"
   ]
  },
  {
   "cell_type": "code",
   "execution_count": 6,
   "metadata": {},
   "outputs": [],
   "source": [
    "table = dynamodb.Table(\"jobs\")"
   ]
  },
  {
   "cell_type": "markdown",
   "metadata": {},
   "source": [
    "## Add an item to the table"
   ]
  },
  {
   "cell_type": "code",
   "execution_count": null,
   "metadata": {},
   "outputs": [],
   "source": [
    "table.put_item(\n",
    "    Item = {\n",
    "        \"job_title\" : \"Data Analyst\",\n",
    "        \"company_location\" : \"Indeed_Seattle\",\n",
    "        \"company\" : \"Indeed\",\n",
    "        \"location\" : \"Seattle\",\n",
    "        \"city\" : \"WA\",\n",
    "        \"description\" : \"With one application you can be considered for thousands of tech roles from leading companies on Seen. Seen by Indeed is a free service that connects you to opportunities that take you further in your career.\"\n",
    "    })"
   ]
  },
  {
   "cell_type": "markdown",
   "metadata": {},
   "source": [
    "## Get an item from the table"
   ]
  },
  {
   "cell_type": "code",
   "execution_count": 105,
   "metadata": {},
   "outputs": [
    {
     "name": "stdout",
     "output_type": "stream",
     "text": [
      "{'city': 'San Francisco', 'job_title': 'Product Analyst', 'company': 'Digit', 'salary': None, 'zip_code': None, 'source': 'Indeed', 'reviews': None, 'description': \"The Role\\n--------\\n\\nDigit is the smartest way for anyone to prepare financially for life's needs, wants, surprises and dreams, without changing their daily behavior. This is important because managing personal finances is hard. 65% of Americans couldn't come up with $2,000 in event of an emergency. National credit card debt is at a record high of over $1 trillion. Our mission is to make financial health effortless for everyone.\\n\\nWe are looking for a passionate, curious and creative problem solver to be a Product Analyst at Digit. Your role will be focused on democratizing product insights and using data to drive product strategy. If you're passionate about making a meaningful difference in people's lives in partnership with a smart, driven and fun-loving team, we're excited to meet you.\\n\\nWhat You Offer Digit\\n--------------------\\n\\n\\nExtensive hands-on experience with SQL and data visualization\\nAbility to develop quantitative analysis, ad-hoc reports, and models to derive meaning from raw data in order to influence product decisions and direction\\nStrong communications skills and ability to present work to executive staff\\nSelf-starter owner attitude with an enthusiasm to work in a fast-paced, start-up environment\\nCompetent understanding of statistical principles (eg. statistical significance)\\nAt least 2 years of experience in a related role\\n\\nWhat Digit Offers You\\n---------------------\\n\\n\\nOpportunity to be highly impactful\\nA product that creates life-changing results with an altruistic company mission\\nCompetitive salary and stock options\\n100% paid medical, dental, & vision benefits\\n18 weeks Parental Leave\\nFertility Benefits\\n401k Plan\\nCatered lunches with unlimited snacks and drinks\\nCommuter and wellness benefits\\nFlexible work and vacation policy\\n\\nOnboarding Expectations\\n-----------------------\\n\\nWithin 1 Day, You will:\\n\\nStart getting to know your team on a personal level\\nBecome familiar with our product and company culture\\nGrasp what results look like for your team\\n\\nWithin 2 Weeks, You will:\\n\\nDesign a product experiment and work with engineers on launching to production\\nDeliver analysis on a recently shipped major feature to your Product Manager\\nUnderstand and internalize existing KPIs and how they relate to OKRs\\n\\nWithin 2 Months, You will:\\n\\nMake data-driven contributions to product roadmap\\nIdentify areas of improvement in our experimentation process and implement them\\nEvaluate and predict feature impact on Digit consumers and product strategy\\n\\nWithin 6 Months, You will:\\n\\nBuild scalable tools to enable data-driven decisions by everyone on the team\\nPartner with Product Managers to define OKRs each cycle\\nAct as Subject Matter Expert for all data on your teams\\n\\nAbout Digit:\\nDigit automates the day-to-day work of managing money so you never even have to think about it. We want to eliminate the stress and anxiety people feel about their finances while helping them build a solid foundation for the future they're trying to achieve. Our technology combines machine learning, behavioral psychology, and natural language interaction to provide a personal assistant you can trust to work toward your goals while you spend your time and effort on what's most important in your life.\\n\\nDigit is a proud equal opportunity/affirmative action employer supporting workforce diversity. We do not discriminate based upon race, ethnicity, ancestry, citizenship status, religion, color, national origin, sex (including pregnancy, childbirth, or related medical conditions), marital status, registered domestic partner status, caregiver status, sexual orientation, gender, gender identity, gender expression, transgender status, sexual stereotypes, age, genetic information, military or veteran status, mental or physical disability, political affiliation, status as a victim of domestic violence, assault or stalking, or other applicable legally protected characteristics. We encourage candidates from all backgrounds to apply and consider qualified applicants regardless of criminal histories, in accordance with the San Francisco Fair Chance Ordinance. ( http://sfgsa.org/modules/showdocument.aspx?documentid=11600 )\\n\\nDigit is committed to providing reasonable accommodations for candidates with disabilities in our recruiting process. If you need any assistance or accommodations due to a disability, please let us know at recruiting@digit.co ( recruiting@digit.co ).\", 'state': 'CA', 'company_location': 'Digit_San Francisco'}\n"
     ]
    }
   ],
   "source": [
    "response = table.get_item(\n",
    "    Key={\n",
    "        \"job_title\": \"Product Analyst\",\n",
    "        \"company_location\": \"Digit_San Francisco\"\n",
    "    }\n",
    ")\n",
    "print(response['Item'])"
   ]
  },
  {
   "cell_type": "markdown",
   "metadata": {},
   "source": [
    "## Query from the table using key"
   ]
  },
  {
   "cell_type": "code",
   "execution_count": 97,
   "metadata": {},
   "outputs": [],
   "source": [
    "response = table.query(\n",
    "    KeyConditionExpression = Key(\"job_title\").eq(\"Product Analyst\"))"
   ]
  },
  {
   "cell_type": "code",
   "execution_count": 98,
   "metadata": {},
   "outputs": [
    {
     "name": "stdout",
     "output_type": "stream",
     "text": [
      "Product Analyst : 1-800-Flowers\n",
      "Product Analyst : 1800flowers.com\n",
      "Product Analyst : American Express7\n",
      "Product Analyst : Amplify Education\n",
      "Product Analyst : Arcadia.io\n",
      "Product Analyst : Blend Labs\n",
      "Product Analyst : Cotiviti\n",
      "Product Analyst : Credible\n",
      "Product Analyst : Digit\n",
      "Product Analyst : Disney Parks\n",
      "Product Analyst : Dom and Tom\n",
      "Product Analyst : HubSpot\n",
      "Product Analyst : Ipreo\n",
      "Product Analyst : Kin Insurance\n",
      "Product Analyst : Kiva.org\n",
      "Product Analyst : Klaviyo\n",
      "Product Analyst : Liftoff\n",
      "Product Analyst : MCT Technology\n",
      "Product Analyst : Oak Street Health\n",
      "Product Analyst : Plymouth Rock Assurance\n",
      "Product Analyst : Plymouth Rock Assurance\n",
      "Product Analyst : Republic\n",
      "Product Analyst : SmartAsset\n",
      "Product Analyst : Supplyframe\n",
      "Product Analyst : Swift Navigation\n",
      "Product Analyst : University of San Francisco\n",
      "Product Analyst : Western Asset\n",
      "Product Analyst : viagogo\n"
     ]
    }
   ],
   "source": [
    "for i in response['Items']:\n",
    "    print(i['job_title'], \":\", i['company'])"
   ]
  },
  {
   "cell_type": "code",
   "execution_count": 48,
   "metadata": {},
   "outputs": [],
   "source": [
    "# Reads the job listing data collected from monster website\n",
    "data1 = pd.read_csv(\"moster_data_combined.csv\", usecols = [1, 2, 3, 4, 5, 6, 7, 8, 9], engine= 'python')"
   ]
  },
  {
   "cell_type": "code",
   "execution_count": 72,
   "metadata": {},
   "outputs": [],
   "source": [
    "# Reads the job listing data collected from indeed website\n",
    "data1 = pd.read_csv(\"indeed_job_listings.csv\", usecols = [1, 2, 3, 4, 5, 6, 7, 8, 9], engine= 'python')"
   ]
  },
  {
   "cell_type": "code",
   "execution_count": 73,
   "metadata": {},
   "outputs": [],
   "source": [
    "# Creates the range key by combining company and location columns using a \"_\"\n",
    "data1[\"company_location\"] = data1[\"Company\"] + \"_\" + data1[\"City\"]"
   ]
  },
  {
   "cell_type": "code",
   "execution_count": 75,
   "metadata": {},
   "outputs": [],
   "source": [
    "# Renaming the columns of the dataframe\n",
    "data1.columns = [\"job_title\", \"company\", \"reviews\", \"description\", \"salary\", \"city\", \"state\", \"zip_code\", \"source\", \"company_location\"]"
   ]
  },
  {
   "cell_type": "code",
   "execution_count": 76,
   "metadata": {},
   "outputs": [
    {
     "data": {
      "text/plain": [
       "6010"
      ]
     },
     "execution_count": 76,
     "metadata": {},
     "output_type": "execute_result"
    }
   ],
   "source": [
    "len(data1)"
   ]
  },
  {
   "cell_type": "code",
   "execution_count": 77,
   "metadata": {},
   "outputs": [
    {
     "data": {
      "text/html": [
       "<div>\n",
       "<style scoped>\n",
       "    .dataframe tbody tr th:only-of-type {\n",
       "        vertical-align: middle;\n",
       "    }\n",
       "\n",
       "    .dataframe tbody tr th {\n",
       "        vertical-align: top;\n",
       "    }\n",
       "\n",
       "    .dataframe thead th {\n",
       "        text-align: right;\n",
       "    }\n",
       "</style>\n",
       "<table border=\"1\" class=\"dataframe\">\n",
       "  <thead>\n",
       "    <tr style=\"text-align: right;\">\n",
       "      <th></th>\n",
       "      <th>job_title</th>\n",
       "      <th>company</th>\n",
       "      <th>reviews</th>\n",
       "      <th>description</th>\n",
       "      <th>salary</th>\n",
       "      <th>city</th>\n",
       "      <th>state</th>\n",
       "      <th>zip_code</th>\n",
       "      <th>source</th>\n",
       "      <th>company_location</th>\n",
       "    </tr>\n",
       "  </thead>\n",
       "  <tbody>\n",
       "    <tr>\n",
       "      <th>0</th>\n",
       "      <td>Data Analyst</td>\n",
       "      <td>Seen by Indeed</td>\n",
       "      <td>NaN</td>\n",
       "      <td>With one application you can be considered for...</td>\n",
       "      <td>NaN</td>\n",
       "      <td>Seattle</td>\n",
       "      <td>WA</td>\n",
       "      <td>NaN</td>\n",
       "      <td>Indeed</td>\n",
       "      <td>Seen by Indeed_Seattle</td>\n",
       "    </tr>\n",
       "    <tr>\n",
       "      <th>1</th>\n",
       "      <td>Business Analyst</td>\n",
       "      <td>Microsoft6</td>\n",
       "      <td>686 reviews</td>\n",
       "      <td>Microsoft Cloud Hardware Infrastructure and En...</td>\n",
       "      <td>NaN</td>\n",
       "      <td>Redmond</td>\n",
       "      <td>WA</td>\n",
       "      <td>NaN</td>\n",
       "      <td>Indeed</td>\n",
       "      <td>Microsoft6_Redmond</td>\n",
       "    </tr>\n",
       "    <tr>\n",
       "      <th>2</th>\n",
       "      <td>ML Data Associate III</td>\n",
       "      <td>Amazon.com Services LLC46</td>\n",
       "      <td>789 reviews</td>\n",
       "      <td>Basic Qualifications\\nBachelors degree or comm...</td>\n",
       "      <td>NaN</td>\n",
       "      <td>Seattle</td>\n",
       "      <td>WA</td>\n",
       "      <td>NaN</td>\n",
       "      <td>Indeed</td>\n",
       "      <td>Amazon.com Services LLC46_Seattle</td>\n",
       "    </tr>\n",
       "    <tr>\n",
       "      <th>3</th>\n",
       "      <td>Data Analyst</td>\n",
       "      <td>Gupta Media</td>\n",
       "      <td>NaN</td>\n",
       "      <td>Gupta Media is looking for a Data Analyst to j...</td>\n",
       "      <td>NaN</td>\n",
       "      <td>Boston</td>\n",
       "      <td>MA</td>\n",
       "      <td>2116</td>\n",
       "      <td>Indeed</td>\n",
       "      <td>Gupta Media_Boston</td>\n",
       "    </tr>\n",
       "    <tr>\n",
       "      <th>4</th>\n",
       "      <td>Implementation Specialist / Business Analyst</td>\n",
       "      <td>ScerIS</td>\n",
       "      <td>NaN</td>\n",
       "      <td>ScerIS is looking to add experienced and entry...</td>\n",
       "      <td>$65,553.00 to $120,000.00 /year</td>\n",
       "      <td>Marlborough</td>\n",
       "      <td>MA</td>\n",
       "      <td>1752</td>\n",
       "      <td>Indeed</td>\n",
       "      <td>ScerIS_Marlborough</td>\n",
       "    </tr>\n",
       "  </tbody>\n",
       "</table>\n",
       "</div>"
      ],
      "text/plain": [
       "                                      job_title                    company  \\\n",
       "0                                  Data Analyst             Seen by Indeed   \n",
       "1                              Business Analyst                 Microsoft6   \n",
       "2                         ML Data Associate III  Amazon.com Services LLC46   \n",
       "3                                  Data Analyst                Gupta Media   \n",
       "4  Implementation Specialist / Business Analyst                     ScerIS   \n",
       "\n",
       "       reviews                                        description  \\\n",
       "0          NaN  With one application you can be considered for...   \n",
       "1  686 reviews  Microsoft Cloud Hardware Infrastructure and En...   \n",
       "2  789 reviews  Basic Qualifications\\nBachelors degree or comm...   \n",
       "3          NaN  Gupta Media is looking for a Data Analyst to j...   \n",
       "4          NaN  ScerIS is looking to add experienced and entry...   \n",
       "\n",
       "                            salary         city state zip_code  source  \\\n",
       "0                              NaN      Seattle    WA      NaN  Indeed   \n",
       "1                              NaN      Redmond    WA      NaN  Indeed   \n",
       "2                              NaN      Seattle    WA      NaN  Indeed   \n",
       "3                              NaN       Boston    MA     2116  Indeed   \n",
       "4  $65,553.00 to $120,000.00 /year  Marlborough    MA     1752  Indeed   \n",
       "\n",
       "                    company_location  \n",
       "0             Seen by Indeed_Seattle  \n",
       "1                 Microsoft6_Redmond  \n",
       "2  Amazon.com Services LLC46_Seattle  \n",
       "3                 Gupta Media_Boston  \n",
       "4                 ScerIS_Marlborough  "
      ]
     },
     "execution_count": 77,
     "metadata": {},
     "output_type": "execute_result"
    }
   ],
   "source": [
    "data1.head()"
   ]
  },
  {
   "cell_type": "code",
   "execution_count": 78,
   "metadata": {},
   "outputs": [],
   "source": [
    "def removeNonAscii(s): return \"\".join(i for i in s if ord(i)<128)"
   ]
  },
  {
   "cell_type": "code",
   "execution_count": 79,
   "metadata": {},
   "outputs": [],
   "source": [
    "#Removes non ascii characters from title and description\n",
    "data1[\"job_title\"] = data1[\"job_title\"].apply(removeNonAscii)\n",
    "data1[\"description\"] = data1[\"description\"].apply(removeNonAscii)"
   ]
  },
  {
   "cell_type": "code",
   "execution_count": 80,
   "metadata": {},
   "outputs": [],
   "source": [
    "# Converts the rows into json string\n",
    "data1 = data1.to_json(orient='records')"
   ]
  },
  {
   "cell_type": "code",
   "execution_count": 81,
   "metadata": {},
   "outputs": [],
   "source": [
    "# Convert json string to json object\n",
    "job_data = json.loads(data1, parse_float = Decimal)"
   ]
  },
  {
   "cell_type": "code",
   "execution_count": 82,
   "metadata": {},
   "outputs": [
    {
     "data": {
      "text/plain": [
       "6010"
      ]
     },
     "execution_count": 82,
     "metadata": {},
     "output_type": "execute_result"
    }
   ],
   "source": [
    "len(job_data)"
   ]
  },
  {
   "cell_type": "markdown",
   "metadata": {},
   "source": [
    "## Uploading data to the database using batch writer"
   ]
  },
  {
   "cell_type": "code",
   "execution_count": null,
   "metadata": {},
   "outputs": [],
   "source": [
    "with table.batch_writer(overwrite_by_pkeys=['job_title', 'company_location']) as batch:\n",
    "    for i in range(984, len(job_data)):\n",
    "        print(i)\n",
    "        batch.put_item(Item = job_data[i])\n",
    "        # wait time is used between each records to reduce the write frequency in the database\n",
    "        time.sleep(0.5)"
   ]
  },
  {
   "cell_type": "code",
   "execution_count": 8,
   "metadata": {},
   "outputs": [
    {
     "name": "stdout",
     "output_type": "stream",
     "text": [
      "{'Table': {'AttributeDefinitions': [{'AttributeName': 'company_location', 'AttributeType': 'S'}, {'AttributeName': 'job_title', 'AttributeType': 'S'}], 'TableName': 'jobs', 'KeySchema': [{'AttributeName': 'job_title', 'KeyType': 'HASH'}, {'AttributeName': 'company_location', 'KeyType': 'RANGE'}], 'TableStatus': 'ACTIVE', 'CreationDateTime': datetime.datetime(2020, 3, 15, 0, 5, 24, 266000, tzinfo=tzlocal()), 'ProvisionedThroughput': {'NumberOfDecreasesToday': 0, 'ReadCapacityUnits': 20, 'WriteCapacityUnits': 20}, 'TableSizeBytes': 80463776, 'ItemCount': 20979, 'TableArn': 'arn:aws:dynamodb:us-west-1:764210939372:table/jobs', 'TableId': '4b853d1e-72fb-4e22-8387-247002993394'}, 'ResponseMetadata': {'RequestId': '62FU0TTS1IBVIRI4KF6EESRHUBVV4KQNSO5AEMVJF66Q9ASUAAJG', 'HTTPStatusCode': 200, 'HTTPHeaders': {'server': 'Server', 'date': 'Sun, 15 Mar 2020 21:50:45 GMT', 'content-type': 'application/x-amz-json-1.0', 'content-length': '594', 'connection': 'keep-alive', 'x-amzn-requestid': '62FU0TTS1IBVIRI4KF6EESRHUBVV4KQNSO5AEMVJF66Q9ASUAAJG', 'x-amz-crc32': '1997237247'}, 'RetryAttempts': 0}}\n"
     ]
    }
   ],
   "source": [
    "dynamoDBClient = boto3.client('dynamodb')\n",
    "table = dynamoDBClient.describe_table(\n",
    "    TableName='jobs'\n",
    ")\n",
    "print(table)"
   ]
  }
 ],
 "metadata": {
  "kernelspec": {
   "display_name": "Python 3",
   "language": "python",
   "name": "python3"
  },
  "language_info": {
   "codemirror_mode": {
    "name": "ipython",
    "version": 3
   },
   "file_extension": ".py",
   "mimetype": "text/x-python",
   "name": "python",
   "nbconvert_exporter": "python",
   "pygments_lexer": "ipython3",
   "version": "3.7.3"
  },
  "toc": {
   "base_numbering": 1,
   "nav_menu": {},
   "number_sections": true,
   "sideBar": true,
   "skip_h1_title": false,
   "title_cell": "Table of Contents",
   "title_sidebar": "Contents",
   "toc_cell": false,
   "toc_position": {},
   "toc_section_display": true,
   "toc_window_display": false
  },
  "varInspector": {
   "cols": {
    "lenName": 16,
    "lenType": 16,
    "lenVar": 40
   },
   "kernels_config": {
    "python": {
     "delete_cmd_postfix": "",
     "delete_cmd_prefix": "del ",
     "library": "var_list.py",
     "varRefreshCmd": "print(var_dic_list())"
    },
    "r": {
     "delete_cmd_postfix": ") ",
     "delete_cmd_prefix": "rm(",
     "library": "var_list.r",
     "varRefreshCmd": "cat(var_dic_list()) "
    }
   },
   "types_to_exclude": [
    "module",
    "function",
    "builtin_function_or_method",
    "instance",
    "_Feature"
   ],
   "window_display": false
  }
 },
 "nbformat": 4,
 "nbformat_minor": 4
}
