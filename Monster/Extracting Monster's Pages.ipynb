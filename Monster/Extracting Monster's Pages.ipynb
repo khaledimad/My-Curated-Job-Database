{
 "cells": [
  {
   "cell_type": "code",
   "execution_count": 1,
   "metadata": {},
   "outputs": [],
   "source": [
    "from pathlib import Path\n",
    "import requests\n",
    "import bs4\n",
    "from bs4 import BeautifulSoup\n",
    "import pandas as pd\n",
    "import re"
   ]
  },
  {
   "cell_type": "code",
   "execution_count": 2,
   "metadata": {},
   "outputs": [],
   "source": [
    "# Creates list of files names from the html files that we saved from monster website's listing\n",
    "dir = Path.cwd()\n",
    "file_names = list(dir.glob(\"Profiles/*.htm\"))"
   ]
  },
  {
   "cell_type": "code",
   "execution_count": 3,
   "metadata": {},
   "outputs": [
    {
     "data": {
      "text/plain": [
       "8794"
      ]
     },
     "execution_count": 3,
     "metadata": {},
     "output_type": "execute_result"
    }
   ],
   "source": [
    "len(file_names)"
   ]
  },
  {
   "cell_type": "code",
   "execution_count": 4,
   "metadata": {},
   "outputs": [],
   "source": [
    "# Loops over the list of filenames and removes the error files, if any\n",
    "for each in file_names:\n",
    "    with open(each, \"r\", encoding='utf-8') as file:\n",
    "        content = BeautifulSoup(file.read(), 'html.parser')\n",
    "        text = content.get_text()\n",
    "        text = text.replace(\"\\n\", \"\")\n",
    "        match1 = re.match(r\".*The job you asked for is not available\\..*\" ,text)\n",
    "        if match1 != None:\n",
    "            file_names.remove(each)"
   ]
  },
  {
   "cell_type": "code",
   "execution_count": null,
   "metadata": {},
   "outputs": [],
   "source": [
    "job_info_title = []\n",
    "job_info_company = []\n",
    "job_info_location = []\n",
    "job_info_desc = []\n",
    "# Loops over each file name\n",
    "for each in file_names:\n",
    "    with open(each, \"r\", encoding='utf-8') as file:\n",
    "        content = BeautifulSoup(file.read(), 'html.parser')\n",
    "        # Get job title based on h1 tag\n",
    "        title = content.find(\"h1\", class_ = \"job_title c-primary-dk\")\n",
    "        # Get company name using the div tag\n",
    "        company = content.find(\"div\", class_ = \"job_company_name tag-line c-primary\")\n",
    "        # Get location using div tag\n",
    "        location = content.find(\"div\", class_ = \"location c-gray-6\")\n",
    "        # Get job description using div tag\n",
    "        desc = content.find(\"div\", class_ = \"job-description\")\n",
    "        # checks if the data is not none and then append it to the corresponding list\n",
    "        if title != None:\n",
    "            job_info_title.append(title.text)\n",
    "        else:\n",
    "            print(each)\n",
    "            job_info_title.append(\"Not Found\")\n",
    "        if title != None:\n",
    "            job_info_company.append(company.text)\n",
    "        else:\n",
    "            print(each)\n",
    "            job_info_company.append(\"Not Found\")\n",
    "        if title != None:\n",
    "            job_info_location.append(location.text)\n",
    "        else:\n",
    "            print(each)\n",
    "            job_info_location.append(\"Not Found\")\n",
    "        if title != None:\n",
    "            job_info_desc.append(desc.text)\n",
    "        else:\n",
    "            job_info_desc.append(\"Not Found\")"
   ]
  },
  {
   "cell_type": "code",
   "execution_count": 7,
   "metadata": {},
   "outputs": [
    {
     "data": {
      "text/plain": [
       "8641"
      ]
     },
     "execution_count": 7,
     "metadata": {},
     "output_type": "execute_result"
    }
   ],
   "source": [
    "len(job_info_desc)"
   ]
  },
  {
   "cell_type": "code",
   "execution_count": 8,
   "metadata": {},
   "outputs": [
    {
     "data": {
      "text/plain": [
       "8641"
      ]
     },
     "execution_count": 8,
     "metadata": {},
     "output_type": "execute_result"
    }
   ],
   "source": [
    "len(file_names)"
   ]
  },
  {
   "cell_type": "code",
   "execution_count": 9,
   "metadata": {},
   "outputs": [],
   "source": [
    "#Concat all the lists into a dataframe\n",
    "job_details = pd.DataFrame(list(zip(job_info_title, job_info_company, job_info_location, job_info_desc)), columns = [\"Title\", \"Company\", \"Location\", \"Description\"])"
   ]
  },
  {
   "cell_type": "code",
   "execution_count": 10,
   "metadata": {},
   "outputs": [
    {
     "data": {
      "text/html": [
       "<div>\n",
       "<style scoped>\n",
       "    .dataframe tbody tr th:only-of-type {\n",
       "        vertical-align: middle;\n",
       "    }\n",
       "\n",
       "    .dataframe tbody tr th {\n",
       "        vertical-align: top;\n",
       "    }\n",
       "\n",
       "    .dataframe thead th {\n",
       "        text-align: right;\n",
       "    }\n",
       "</style>\n",
       "<table border=\"1\" class=\"dataframe\">\n",
       "  <thead>\n",
       "    <tr style=\"text-align: right;\">\n",
       "      <th></th>\n",
       "      <th>Title</th>\n",
       "      <th>Company</th>\n",
       "      <th>Location</th>\n",
       "      <th>Description</th>\n",
       "    </tr>\n",
       "  </thead>\n",
       "  <tbody>\n",
       "    <tr>\n",
       "      <th>0</th>\n",
       "      <td>Data Analyst - Python, SQL</td>\n",
       "      <td>CyberCoders</td>\n",
       "      <td>Seattle, WA</td>\n",
       "      <td>DescriptionIf you are a Data Analyst with expe...</td>\n",
       "    </tr>\n",
       "    <tr>\n",
       "      <th>1</th>\n",
       "      <td>Data Analyst I</td>\n",
       "      <td>Collabera</td>\n",
       "      <td>Bellevue, WA</td>\n",
       "      <td>DescriptionBellevue, WashingtonSkills : data a...</td>\n",
       "    </tr>\n",
       "    <tr>\n",
       "      <th>2</th>\n",
       "      <td>Senior Software Engineer - Java</td>\n",
       "      <td>Intelliswift Software</td>\n",
       "      <td>San Francisco, CA 94105</td>\n",
       "      <td>DescriptionTitle: Senior Software EngineerPosi...</td>\n",
       "    </tr>\n",
       "    <tr>\n",
       "      <th>3</th>\n",
       "      <td>Data Analyst</td>\n",
       "      <td>Community Transit</td>\n",
       "      <td>Everett, WA 98203</td>\n",
       "      <td>DescriptionLeads efforts to collect, organize,...</td>\n",
       "    </tr>\n",
       "    <tr>\n",
       "      <th>4</th>\n",
       "      <td>Data Analyst</td>\n",
       "      <td>Rodo Inc.</td>\n",
       "      <td>New York, NY</td>\n",
       "      <td>DescriptionJob DescriptionRodo is a car leasin...</td>\n",
       "    </tr>\n",
       "  </tbody>\n",
       "</table>\n",
       "</div>"
      ],
      "text/plain": [
       "                              Title                Company  \\\n",
       "0        Data Analyst - Python, SQL            CyberCoders   \n",
       "1                    Data Analyst I              Collabera   \n",
       "2   Senior Software Engineer - Java  Intelliswift Software   \n",
       "3                      Data Analyst      Community Transit   \n",
       "4                      Data Analyst              Rodo Inc.   \n",
       "\n",
       "                  Location                                        Description  \n",
       "0              Seattle, WA  DescriptionIf you are a Data Analyst with expe...  \n",
       "1             Bellevue, WA  DescriptionBellevue, WashingtonSkills : data a...  \n",
       "2  San Francisco, CA 94105  DescriptionTitle: Senior Software EngineerPosi...  \n",
       "3        Everett, WA 98203  DescriptionLeads efforts to collect, organize,...  \n",
       "4             New York, NY  DescriptionJob DescriptionRodo is a car leasin...  "
      ]
     },
     "execution_count": 10,
     "metadata": {},
     "output_type": "execute_result"
    }
   ],
   "source": [
    "job_details.head()"
   ]
  },
  {
   "cell_type": "code",
   "execution_count": 11,
   "metadata": {},
   "outputs": [],
   "source": [
    "#Creates city, state and zip code based on the locationinformation using regex\n",
    "job_details[\"City\"] = job_details[\"Location\"].replace(r\"([a-zA-Z\\s]+),.*\", r\"\\1\", regex = True)\n",
    "job_details[\"State\"] = job_details[\"Location\"].replace(r\"[a-zA-Z\\s]+,\\s([A-Z]{2}).*\", r\"\\1\", regex = True)\n",
    "job_details[\"Pincode\"] = job_details[\"Location\"].replace(r\"[a-zA-Z\\s]+,\\s[A-Z]{2}\\s?([0-9]+)?\", r\"\\1\", regex = True)\n",
    "job_details[\"Description\"] = job_details[\"Description\"].replace(r\"Description(.*)\", r\"\\1\", regex = True)"
   ]
  },
  {
   "cell_type": "code",
   "execution_count": 12,
   "metadata": {},
   "outputs": [],
   "source": [
    "#Remove location information from the dataframe\n",
    "job_details.drop(columns = [\"Location\"], inplace = True)"
   ]
  },
  {
   "cell_type": "code",
   "execution_count": 13,
   "metadata": {},
   "outputs": [],
   "source": [
    "# Write the dataframe to a csv file\n",
    "job_details.to_csv(\"monster_data_V.csv\")"
   ]
  },
  {
   "cell_type": "code",
   "execution_count": 192,
   "metadata": {},
   "outputs": [],
   "source": [
    "# Read from multiple csv files and create a dataframe for each\n",
    "job_details1 = pd.read_csv(\"monster_data_V.csv\")\n",
    "job_details2 = pd.read_csv(\"monster_data_C.csv\")\n",
    "job_details3 = pd.read_csv(\"monster_data_K.csv\")\n",
    "job_details4 = pd.read_csv(\"monster_data_N.csv\")"
   ]
  },
  {
   "cell_type": "code",
   "execution_count": 193,
   "metadata": {},
   "outputs": [],
   "source": [
    "#Combines all the dataframes into one\n",
    "job_details = pd.concat([job_details1, job_details2, job_details3, job_details4])"
   ]
  },
  {
   "cell_type": "code",
   "execution_count": 194,
   "metadata": {},
   "outputs": [
    {
     "data": {
      "text/plain": [
       "27407"
      ]
     },
     "execution_count": 194,
     "metadata": {},
     "output_type": "execute_result"
    }
   ],
   "source": [
    "len(job_details)"
   ]
  },
  {
   "cell_type": "code",
   "execution_count": 195,
   "metadata": {},
   "outputs": [
    {
     "name": "stdout",
     "output_type": "stream",
     "text": [
      "<class 'pandas.core.frame.DataFrame'>\n",
      "RangeIndex: 22308 entries, 0 to 22307\n",
      "Data columns (total 6 columns):\n",
      " #   Column       Non-Null Count  Dtype \n",
      "---  ------       --------------  ----- \n",
      " 0   Title        22308 non-null  object\n",
      " 1   Company      22298 non-null  object\n",
      " 2   Description  22308 non-null  object\n",
      " 3   City         22249 non-null  object\n",
      " 4   State        22249 non-null  object\n",
      " 5   Pincode      8667 non-null   object\n",
      "dtypes: object(6)\n",
      "memory usage: 1.0+ MB\n"
     ]
    }
   ],
   "source": [
    "#Removes the index column\n",
    "job_details.drop(['Unnamed: 0'], axis=1, inplace = True)\n",
    "# Remove redundant rows\n",
    "job_details = job_details.drop_duplicates().reset_index(drop=True)\n",
    "job_details.info()"
   ]
  },
  {
   "cell_type": "code",
   "execution_count": 196,
   "metadata": {},
   "outputs": [
    {
     "data": {
      "text/plain": [
       "22308"
      ]
     },
     "execution_count": 196,
     "metadata": {},
     "output_type": "execute_result"
    }
   ],
   "source": [
    "len(job_details)"
   ]
  },
  {
   "cell_type": "code",
   "execution_count": 197,
   "metadata": {},
   "outputs": [],
   "source": [
    "def removeNonAscii(s): return \"\".join(i for i in s if ord(i)<128)"
   ]
  },
  {
   "cell_type": "code",
   "execution_count": 198,
   "metadata": {},
   "outputs": [],
   "source": [
    "# Removes non ascii characters\n",
    "job_details[\"Description\"] = job_details[\"Description\"].apply(removeNonAscii)"
   ]
  },
  {
   "cell_type": "code",
   "execution_count": 201,
   "metadata": {},
   "outputs": [],
   "source": [
    "# Replicate the Description column as Salary\n",
    "job_details[\"Salary\"] = job_details[\"Description\"]"
   ]
  },
  {
   "cell_type": "code",
   "execution_count": 202,
   "metadata": {},
   "outputs": [
    {
     "data": {
      "text/html": [
       "<div>\n",
       "<style scoped>\n",
       "    .dataframe tbody tr th:only-of-type {\n",
       "        vertical-align: middle;\n",
       "    }\n",
       "\n",
       "    .dataframe tbody tr th {\n",
       "        vertical-align: top;\n",
       "    }\n",
       "\n",
       "    .dataframe thead th {\n",
       "        text-align: right;\n",
       "    }\n",
       "</style>\n",
       "<table border=\"1\" class=\"dataframe\">\n",
       "  <thead>\n",
       "    <tr style=\"text-align: right;\">\n",
       "      <th></th>\n",
       "      <th>Title</th>\n",
       "      <th>Company</th>\n",
       "      <th>Description</th>\n",
       "      <th>City</th>\n",
       "      <th>State</th>\n",
       "      <th>Pincode</th>\n",
       "      <th>Salary</th>\n",
       "    </tr>\n",
       "  </thead>\n",
       "  <tbody>\n",
       "    <tr>\n",
       "      <th>0</th>\n",
       "      <td>Data Analyst - Python, SQL</td>\n",
       "      <td>CyberCoders</td>\n",
       "      <td>If you are a Data Analyst with experience, ple...</td>\n",
       "      <td>Seattle</td>\n",
       "      <td>WA</td>\n",
       "      <td>NaN</td>\n",
       "      <td>If you are a Data Analyst with experience, ple...</td>\n",
       "    </tr>\n",
       "    <tr>\n",
       "      <th>1</th>\n",
       "      <td>Data Analyst I</td>\n",
       "      <td>Collabera</td>\n",
       "      <td>Bellevue, WashingtonSkills : data analystDescr...</td>\n",
       "      <td>Bellevue</td>\n",
       "      <td>WA</td>\n",
       "      <td>NaN</td>\n",
       "      <td>Bellevue, WashingtonSkills : data analystDescr...</td>\n",
       "    </tr>\n",
       "    <tr>\n",
       "      <th>2</th>\n",
       "      <td>Senior Software Engineer - Java</td>\n",
       "      <td>Intelliswift Software</td>\n",
       "      <td>Title: Senior Software EngineerPosition Type: ...</td>\n",
       "      <td>San Francisco</td>\n",
       "      <td>CA</td>\n",
       "      <td>94105</td>\n",
       "      <td>Title: Senior Software EngineerPosition Type: ...</td>\n",
       "    </tr>\n",
       "    <tr>\n",
       "      <th>3</th>\n",
       "      <td>Data Analyst</td>\n",
       "      <td>Community Transit</td>\n",
       "      <td>Leads efforts to collect, organize, and mainta...</td>\n",
       "      <td>Everett</td>\n",
       "      <td>WA</td>\n",
       "      <td>98203</td>\n",
       "      <td>Leads efforts to collect, organize, and mainta...</td>\n",
       "    </tr>\n",
       "    <tr>\n",
       "      <th>4</th>\n",
       "      <td>Data Analyst</td>\n",
       "      <td>Rodo Inc.</td>\n",
       "      <td>Job DescriptionRodo is a car leasing startup t...</td>\n",
       "      <td>New York</td>\n",
       "      <td>NY</td>\n",
       "      <td>NaN</td>\n",
       "      <td>Job DescriptionRodo is a car leasing startup t...</td>\n",
       "    </tr>\n",
       "  </tbody>\n",
       "</table>\n",
       "</div>"
      ],
      "text/plain": [
       "                              Title                Company  \\\n",
       "0        Data Analyst - Python, SQL            CyberCoders   \n",
       "1                    Data Analyst I              Collabera   \n",
       "2   Senior Software Engineer - Java  Intelliswift Software   \n",
       "3                      Data Analyst      Community Transit   \n",
       "4                      Data Analyst              Rodo Inc.   \n",
       "\n",
       "                                         Description           City State  \\\n",
       "0  If you are a Data Analyst with experience, ple...        Seattle    WA   \n",
       "1  Bellevue, WashingtonSkills : data analystDescr...       Bellevue    WA   \n",
       "2  Title: Senior Software EngineerPosition Type: ...  San Francisco    CA   \n",
       "3  Leads efforts to collect, organize, and mainta...        Everett    WA   \n",
       "4  Job DescriptionRodo is a car leasing startup t...       New York    NY   \n",
       "\n",
       "  Pincode                                             Salary  \n",
       "0     NaN  If you are a Data Analyst with experience, ple...  \n",
       "1     NaN  Bellevue, WashingtonSkills : data analystDescr...  \n",
       "2   94105  Title: Senior Software EngineerPosition Type: ...  \n",
       "3   98203  Leads efforts to collect, organize, and mainta...  \n",
       "4     NaN  Job DescriptionRodo is a car leasing startup t...  "
      ]
     },
     "execution_count": 202,
     "metadata": {},
     "output_type": "execute_result"
    }
   ],
   "source": [
    "job_details.head()"
   ]
  },
  {
   "cell_type": "code",
   "execution_count": null,
   "metadata": {},
   "outputs": [],
   "source": [
    "#Get the salary information from the Description usng Regex patterns and update it in the dataframe\n",
    "for i in range(len(job_details)):\n",
    "    desc = job_details.iloc[i, 6]\n",
    "    match = re.match(\".*[Ss]alary\\s-\\s([,+$0-9to\\skK]+).*\", desc)\n",
    "    if match != None:\n",
    "        job_details.iloc[i, 6] = match[1]\n",
    "        print(\"1: {0} - {1}\".format(i,job_details.iloc[i, 6]))\n",
    "    else:\n",
    "        match1 = re.match(\".*[Ss]alary:([-,+$0-9toperhu\\s\\/Analy.KkHY]+).*\", desc)\n",
    "        if match1 != None:\n",
    "            job_details.iloc[i, 6] = match1[1]\n",
    "            print(\"2: {0} - {1}\".format(i,job_details.iloc[i, 6]))\n",
    "        else:\n",
    "            job_details.iloc[i, 6] = \"-\""
   ]
  },
  {
   "cell_type": "code",
   "execution_count": 205,
   "metadata": {},
   "outputs": [],
   "source": [
    "job_details[\"Source\"] = \"Monster\""
   ]
  },
  {
   "cell_type": "code",
   "execution_count": 206,
   "metadata": {},
   "outputs": [],
   "source": [
    "# Write the resulting dataframe to a csv file\n",
    "job_details.to_csv(\"moster_data_combined.csv\")"
   ]
  }
 ],
 "metadata": {
  "kernelspec": {
   "display_name": "Python 3",
   "language": "python",
   "name": "python3"
  },
  "language_info": {
   "codemirror_mode": {
    "name": "ipython",
    "version": 3
   },
   "file_extension": ".py",
   "mimetype": "text/x-python",
   "name": "python",
   "nbconvert_exporter": "python",
   "pygments_lexer": "ipython3",
   "version": "3.7.3"
  },
  "toc": {
   "base_numbering": 1,
   "nav_menu": {},
   "number_sections": true,
   "sideBar": true,
   "skip_h1_title": false,
   "title_cell": "Table of Contents",
   "title_sidebar": "Contents",
   "toc_cell": false,
   "toc_position": {},
   "toc_section_display": true,
   "toc_window_display": false
  },
  "varInspector": {
   "cols": {
    "lenName": 16,
    "lenType": 16,
    "lenVar": 40
   },
   "kernels_config": {
    "python": {
     "delete_cmd_postfix": "",
     "delete_cmd_prefix": "del ",
     "library": "var_list.py",
     "varRefreshCmd": "print(var_dic_list())"
    },
    "r": {
     "delete_cmd_postfix": ") ",
     "delete_cmd_prefix": "rm(",
     "library": "var_list.r",
     "varRefreshCmd": "cat(var_dic_list()) "
    }
   },
   "types_to_exclude": [
    "module",
    "function",
    "builtin_function_or_method",
    "instance",
    "_Feature"
   ],
   "window_display": false
  }
 },
 "nbformat": 4,
 "nbformat_minor": 4
}
