{
 "cells": [
  {
   "cell_type": "code",
   "execution_count": 1,
   "metadata": {},
   "outputs": [],
   "source": [
    "import requests\n",
    "import bs4\n",
    "from bs4 import BeautifulSoup\n",
    "import time\n",
    "import re\n",
    "from tqdm import tqdm"
   ]
  },
  {
   "cell_type": "code",
   "execution_count": 2,
   "metadata": {},
   "outputs": [
    {
     "name": "stderr",
     "output_type": "stream",
     "text": [
      "100%|██████████| 9/9 [00:03<00:00,  2.60it/s]\n"
     ]
    }
   ],
   "source": [
    "# Seattle, WA\n",
    "links1 = []\n",
    "for i in tqdm(range(9)):\n",
    "    page = i * 10 - 10\n",
    "    url = \"https://www.indeed.com/jobs?q=Data+Analyst&l=seattle+wa&radius=25&jt=fulltime&explvl=entry_level&start=\" + str(page)    \n",
    "    user_agent = 'Mozilla/5.0'\n",
    "    # Adding the user agent to the request header\n",
    "    headers = {'User-Agent': user_agent}\n",
    "\n",
    "    #conducting a request of the stated URL above:\n",
    "    page = requests.get(url, headers = headers)\n",
    "\n",
    "    #specifying a desired format of “page” using the html parser - \n",
    "    #this allows python to read the various components of the page, rather than treating it as one long string.\n",
    "    data = BeautifulSoup(page.text, 'html.parser')\n",
    "    \n",
    "    # get all a tags with the given class\n",
    "    links1.extend(data.findAll(\"a\", class_=\"jobtitle turnstileLink\", target=\"_blank\"))\n",
    "    "
   ]
  },
  {
   "cell_type": "code",
   "execution_count": 3,
   "metadata": {},
   "outputs": [
    {
     "name": "stderr",
     "output_type": "stream",
     "text": [
      "100%|██████████| 40/40 [00:15<00:00,  2.65it/s]\n"
     ]
    }
   ],
   "source": [
    "# New York, NY\n",
    "links2 = []\n",
    "for i in tqdm(range(40)):\n",
    "    page = i * 10 - 10\n",
    "    url = \"https://www.indeed.com/jobs?q=Data+Analyst&l=new+york+ny&radius=25&jt=fulltime&explvl=entry_level&start=\" + str(page)    \n",
    "    user_agent = 'Mozilla/5.0'\n",
    "    # Adding the user agent to the request header\n",
    "    headers = {'User-Agent': user_agent}\n",
    "\n",
    "    #conducting a request of the stated URL above:\n",
    "    page = requests.get(url, headers = headers)\n",
    "\n",
    "    #specifying a desired format of “page” using the html parser - \n",
    "    #this allows python to read the various components of the page, rather than treating it as one long string.\n",
    "    data = BeautifulSoup(page.text, 'html.parser')\n",
    "    \n",
    "    # get all a tags with the given class\n",
    "    links2.extend(data.findAll(\"a\", class_=\"jobtitle turnstileLink\", target=\"_blank\"))\n"
   ]
  },
  {
   "cell_type": "code",
   "execution_count": 4,
   "metadata": {},
   "outputs": [
    {
     "name": "stderr",
     "output_type": "stream",
     "text": [
      "100%|██████████| 20/20 [00:07<00:00,  2.63it/s]\n"
     ]
    }
   ],
   "source": [
    "# Boston, MA\n",
    "links3 = []\n",
    "for i in tqdm(range(20)):\n",
    "    page = i * 10 - 10\n",
    "    url = \"https://www.indeed.com/jobs?q=Data+Analyst&l=boston+ma&radius=25&jt=fulltime&explvl=entry_level&start=\" + str(page)    \n",
    "    user_agent = 'Mozilla/5.0'\n",
    "    # Adding the user agent to the request header\n",
    "    headers = {'User-Agent': user_agent}\n",
    "\n",
    "    #conducting a request of the stated URL above:\n",
    "    page = requests.get(url, headers = headers)\n",
    "\n",
    "    #specifying a desired format of “page” using the html parser - \n",
    "    #this allows python to read the various components of the page, rather than treating it as one long string.\n",
    "    data = BeautifulSoup(page.text, 'html.parser')\n",
    "    \n",
    "    # get all a tags with the given class\n",
    "    links3.extend(data.findAll(\"a\", class_=\"jobtitle turnstileLink\", target=\"_blank\"))\n",
    "    "
   ]
  },
  {
   "cell_type": "code",
   "execution_count": 5,
   "metadata": {},
   "outputs": [
    {
     "name": "stderr",
     "output_type": "stream",
     "text": [
      "100%|██████████| 6/6 [00:02<00:00,  2.39it/s]\n"
     ]
    }
   ],
   "source": [
    "# Raleigh, NC\n",
    "links4 = []\n",
    "for i in tqdm(range(6)):\n",
    "    page = i * 10 - 10\n",
    "    url = \"https://www.indeed.com/jobs?q=Data+Analyst&l=raleigh+nc&radius=25&jt=fulltime&explvl=entry_level&start=\" + str(page)    \n",
    "    user_agent = 'Mozilla/5.0'\n",
    "    # Adding the user agent to the request header\n",
    "    headers = {'User-Agent': user_agent}\n",
    "\n",
    "    #conducting a request of the stated URL above:\n",
    "    page = requests.get(url, headers = headers)\n",
    "\n",
    "    #specifying a desired format of “page” using the html parser - \n",
    "    #this allows python to read the various components of the page, rather than treating it as one long string.\n",
    "    data = BeautifulSoup(page.text, 'html.parser')\n",
    "    \n",
    "    # get all a tags with the given class\n",
    "    links4.extend(data.findAll(\"a\", class_=\"jobtitle turnstileLink\", target=\"_blank\"))\n",
    "    "
   ]
  },
  {
   "cell_type": "code",
   "execution_count": 6,
   "metadata": {},
   "outputs": [
    {
     "name": "stderr",
     "output_type": "stream",
     "text": [
      "100%|██████████| 16/16 [00:06<00:00,  2.35it/s]\n"
     ]
    }
   ],
   "source": [
    "# Chicago, IL\n",
    "links5 = []\n",
    "for i in tqdm(range(16)):\n",
    "    page = i * 10 - 10\n",
    "    url = \"https://www.indeed.com/jobs?q=Data+Analyst&l=chicago+il&radius=25&jt=fulltime&explvl=entry_level&start=\" + str(page)    \n",
    "    user_agent = 'Mozilla/5.0'\n",
    "    # Adding the user agent to the request header\n",
    "    headers = {'User-Agent': user_agent}\n",
    "\n",
    "    #conducting a request of the stated URL above:\n",
    "    page = requests.get(url, headers = headers)\n",
    "\n",
    "    #specifying a desired format of “page” using the html parser - \n",
    "    #this allows python to read the various components of the page, rather than treating it as one long string.\n",
    "    data = BeautifulSoup(page.text, 'html.parser')\n",
    "    \n",
    "    # get all a tags with the given class\n",
    "    links5.extend(data.findAll(\"a\", class_=\"jobtitle turnstileLink\", target=\"_blank\"))\n",
    "    "
   ]
  },
  {
   "cell_type": "code",
   "execution_count": 7,
   "metadata": {},
   "outputs": [
    {
     "name": "stderr",
     "output_type": "stream",
     "text": [
      "100%|██████████| 40/40 [00:16<00:00,  2.41it/s]\n"
     ]
    }
   ],
   "source": [
    "# Washington, DC\n",
    "links6 = []\n",
    "for i in tqdm(range(40)):\n",
    "    page = i * 10 - 10\n",
    "    url = \"https://www.indeed.com/jobs?q=Data+Analyst&l=washington+dc&radius=25&jt=fulltime&explvl=entry_level&start=\" + str(page)    \n",
    "    user_agent = 'Mozilla/5.0'\n",
    "    # Adding the user agent to the request header\n",
    "    headers = {'User-Agent': user_agent}\n",
    "\n",
    "    #conducting a request of the stated URL above:\n",
    "    page = requests.get(url, headers = headers)\n",
    "\n",
    "    #specifying a desired format of “page” using the html parser - \n",
    "    #this allows python to read the various components of the page, rather than treating it as one long string.\n",
    "    data = BeautifulSoup(page.text, 'html.parser')\n",
    "    \n",
    "    # get all a tags with the given class\n",
    "    links6.extend(data.findAll(\"a\", class_=\"jobtitle turnstileLink\", target=\"_blank\"))\n",
    "    "
   ]
  },
  {
   "cell_type": "code",
   "execution_count": 8,
   "metadata": {},
   "outputs": [
    {
     "name": "stderr",
     "output_type": "stream",
     "text": [
      "100%|██████████| 8/8 [00:02<00:00,  2.86it/s]\n"
     ]
    }
   ],
   "source": [
    "# Austin, TX\n",
    "links7 = []\n",
    "for i in tqdm(range(8)):\n",
    "    page = i * 10 - 10\n",
    "    url = \"https://www.indeed.com/jobs?q=Data+Analyst&l=Austin+TX&radius=25&jt=fulltime&explvl=entry_level&start=\" + str(page)    \n",
    "    user_agent = 'Mozilla/5.0'\n",
    "    # Adding the user agent to the request header\n",
    "    headers = {'User-Agent': user_agent}\n",
    "\n",
    "    #conducting a request of the stated URL above:\n",
    "    page = requests.get(url, headers = headers)\n",
    "\n",
    "    #specifying a desired format of “page” using the html parser - \n",
    "    #this allows python to read the various components of the page, rather than treating it as one long string.\n",
    "    data = BeautifulSoup(page.text, 'html.parser')\n",
    "    \n",
    "    # get all a tags with the given class\n",
    "    links7.extend(data.findAll(\"a\", class_=\"jobtitle turnstileLink\", target=\"_blank\"))\n",
    "    "
   ]
  },
  {
   "cell_type": "code",
   "execution_count": 9,
   "metadata": {},
   "outputs": [
    {
     "name": "stderr",
     "output_type": "stream",
     "text": [
      "100%|██████████| 14/14 [00:05<00:00,  2.73it/s]\n"
     ]
    }
   ],
   "source": [
    "# Atlanta, GA\n",
    "links8 = []\n",
    "for i in tqdm(range(14)):\n",
    "    page = i * 10 - 10\n",
    "    url = \"https://www.indeed.com/jobs?q=Data+Analyst&l=atlanta+GA&radius=25&jt=fulltime&explvl=entry_level&start=\" + str(page)    \n",
    "    user_agent = 'Mozilla/5.0'\n",
    "    # Adding the user agent to the request header\n",
    "    headers = {'User-Agent': user_agent}\n",
    "\n",
    "    #conducting a request of the stated URL above:\n",
    "    page = requests.get(url, headers = headers)\n",
    "\n",
    "    #specifying a desired format of “page” using the html parser - \n",
    "    #this allows python to read the various components of the page, rather than treating it as one long string.\n",
    "    data = BeautifulSoup(page.text, 'html.parser')\n",
    "    \n",
    "    # get all a tags with the given class\n",
    "    links8.extend(data.findAll(\"a\", class_=\"jobtitle turnstileLink\", target=\"_blank\"))\n",
    "    "
   ]
  },
  {
   "cell_type": "code",
   "execution_count": 10,
   "metadata": {},
   "outputs": [
    {
     "name": "stderr",
     "output_type": "stream",
     "text": [
      "100%|██████████| 15/15 [00:05<00:00,  2.79it/s]\n"
     ]
    }
   ],
   "source": [
    "# Los Angeles, LA\n",
    "links9 = []\n",
    "for i in tqdm(range(15)):\n",
    "    page = i * 10 - 10\n",
    "    url = \"https://www.indeed.com/jobs?q=Data+Analyst&l=los+angeles+CA&radius=25&jt=fulltime&explvl=entry_level&start=\" + str(page)    \n",
    "    user_agent = 'Mozilla/5.0'\n",
    "    # Adding the user agent to the request header\n",
    "    headers = {'User-Agent': user_agent}\n",
    "\n",
    "    #conducting a request of the stated URL above:\n",
    "    page = requests.get(url, headers = headers)\n",
    "\n",
    "    #specifying a desired format of “page” using the html parser - \n",
    "    #this allows python to read the various components of the page, rather than treating it as one long string.\n",
    "    data = BeautifulSoup(page.text, 'html.parser')\n",
    "    \n",
    "    # get all a tags with the given class\n",
    "    links9.extend(data.findAll(\"a\", class_=\"jobtitle turnstileLink\", target=\"_blank\"))\n",
    "    "
   ]
  },
  {
   "cell_type": "code",
   "execution_count": 11,
   "metadata": {},
   "outputs": [
    {
     "name": "stderr",
     "output_type": "stream",
     "text": [
      "100%|██████████| 8/8 [00:02<00:00,  3.11it/s]\n"
     ]
    }
   ],
   "source": [
    "# San Diego, CA\n",
    "links10 = []\n",
    "for i in tqdm(range(8)):\n",
    "    page = i * 10 - 10\n",
    "    url = \"https://www.indeed.com/jobs?q=Data+Analyst&l=san+diego+CA&radius=25&jt=fulltime&explvl=entry_level&start=\" + str(page)    \n",
    "    user_agent = 'Mozilla/5.0'\n",
    "    # Adding the user agent to the request header\n",
    "    headers = {'User-Agent': user_agent}\n",
    "\n",
    "    #conducting a request of the stated URL above:\n",
    "    page = requests.get(url, headers = headers)\n",
    "\n",
    "    #specifying a desired format of “page” using the html parser - \n",
    "    #this allows python to read the various components of the page, rather than treating it as one long string.\n",
    "    data = BeautifulSoup(page.text, 'html.parser')\n",
    "    \n",
    "    # get all a tags with the given class\n",
    "    links10.extend(data.findAll(\"a\", class_=\"jobtitle turnstileLink\", target=\"_blank\"))\n",
    "    "
   ]
  },
  {
   "cell_type": "code",
   "execution_count": 12,
   "metadata": {},
   "outputs": [
    {
     "name": "stderr",
     "output_type": "stream",
     "text": [
      "100%|██████████| 27/27 [00:10<00:00,  2.46it/s]\n"
     ]
    }
   ],
   "source": [
    "# San Francisco, CA\n",
    "links11 = []\n",
    "for i in tqdm(range(27)):\n",
    "    page = i * 10 - 10\n",
    "    url = \"https://www.indeed.com/jobs?q=Data+Analyst&l=San+Francisco+CA&radius=50&jt=fulltime&explvl=entry_level&start=\" + str(page)    \n",
    "    user_agent = 'Mozilla/5.0'\n",
    "    # Adding the user agent to the request header\n",
    "    headers = {'User-Agent': user_agent}\n",
    "\n",
    "    #conducting a request of the stated URL above:\n",
    "    page = requests.get(url, headers = headers)\n",
    "\n",
    "    #specifying a desired format of “page” using the html parser - \n",
    "    #this allows python to read the various components of the page, rather than treating it as one long string.\n",
    "    data = BeautifulSoup(page.text, 'html.parser')\n",
    "    \n",
    "    # get all a tags with the given class\n",
    "    links11.extend(data.findAll(\"a\", class_=\"jobtitle turnstileLink\", target=\"_blank\"))\n",
    "    "
   ]
  },
  {
   "cell_type": "code",
   "execution_count": 13,
   "metadata": {},
   "outputs": [],
   "source": [
    "links = links1+links2+links3+links4+links5+links6+links7+links8+links9+links10+links11"
   ]
  },
  {
   "cell_type": "code",
   "execution_count": 14,
   "metadata": {},
   "outputs": [
    {
     "data": {
      "text/plain": [
       "3175"
      ]
     },
     "execution_count": 14,
     "metadata": {},
     "output_type": "execute_result"
    }
   ],
   "source": [
    "len(links)"
   ]
  },
  {
   "cell_type": "code",
   "execution_count": null,
   "metadata": {},
   "outputs": [],
   "source": [
    "job_results = data.find(\"div\", id = \"searchCountPages\").text\n",
    "job_results = job_results.replace(\",\", \"\").strip()\n",
    "no_of_jobs = re.sub(r\".*of\\s(\\d*)\\s.*\", r\"\\1\", job_results)\n",
    "int(no_of_jobs)"
   ]
  },
  {
   "cell_type": "code",
   "execution_count": null,
   "metadata": {},
   "outputs": [],
   "source": [
    "i = 1\n",
    "for each in tqdm(links):\n",
    "    url = \"https://indeed.com\" + each.get(\"href\")\n",
    "    res = requests.get(url, headers = headers)\n",
    "    # Parsing the response and storing the resulting html\n",
    "    data1 = BeautifulSoup(res.text, 'html.parser')\n",
    "    # Creates the file name by concatenating the page numbers\n",
    "    file_name = \"indeed_job\" + str(i) + \".htm\"\n",
    "    i += 1\n",
    "    # Writes the output to the html file\n",
    "    with open(file_name, \"w\", encoding='utf-8') as file:\n",
    "        file.write(str(data1))\n",
    "    # Waits idle for 2 secs before moving on to the next iteration of the loop\n",
    "    time.sleep(1)"
   ]
  },
  {
   "cell_type": "code",
   "execution_count": null,
   "metadata": {},
   "outputs": [],
   "source": []
  }
 ],
 "metadata": {
  "kernelspec": {
   "display_name": "Python 3",
   "language": "python",
   "name": "python3"
  },
  "language_info": {
   "codemirror_mode": {
    "name": "ipython",
    "version": 3
   },
   "file_extension": ".py",
   "mimetype": "text/x-python",
   "name": "python",
   "nbconvert_exporter": "python",
   "pygments_lexer": "ipython3",
   "version": "3.7.3"
  },
  "toc": {
   "base_numbering": 1,
   "nav_menu": {},
   "number_sections": true,
   "sideBar": true,
   "skip_h1_title": false,
   "title_cell": "Table of Contents",
   "title_sidebar": "Contents",
   "toc_cell": false,
   "toc_position": {},
   "toc_section_display": true,
   "toc_window_display": false
  },
  "varInspector": {
   "cols": {
    "lenName": 16,
    "lenType": 16,
    "lenVar": 40
   },
   "kernels_config": {
    "python": {
     "delete_cmd_postfix": "",
     "delete_cmd_prefix": "del ",
     "library": "var_list.py",
     "varRefreshCmd": "print(var_dic_list())"
    },
    "r": {
     "delete_cmd_postfix": ") ",
     "delete_cmd_prefix": "rm(",
     "library": "var_list.r",
     "varRefreshCmd": "cat(var_dic_list()) "
    }
   },
   "types_to_exclude": [
    "module",
    "function",
    "builtin_function_or_method",
    "instance",
    "_Feature"
   ],
   "window_display": false
  }
 },
 "nbformat": 4,
 "nbformat_minor": 4
}
