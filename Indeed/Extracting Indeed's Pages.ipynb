{
 "cells": [
  {
   "cell_type": "code",
   "execution_count": 1,
   "metadata": {},
   "outputs": [],
   "source": [
    "import re\n",
    "from pathlib import Path\n",
    "import pandas as pd\n",
    "import bs4\n",
    "from bs4 import BeautifulSoup"
   ]
  },
  {
   "cell_type": "code",
   "execution_count": 2,
   "metadata": {},
   "outputs": [
    {
     "data": {
      "text/plain": [
       "3195"
      ]
     },
     "execution_count": 2,
     "metadata": {},
     "output_type": "execute_result"
    }
   ],
   "source": [
    "# Saves all the downloaded html file names to the list\n",
    "dir = Path.cwd()\n",
    "file_names = list(dir.glob(\"Indeed files/*.htm\"))\n",
    "len(file_names)"
   ]
  },
  {
   "cell_type": "code",
   "execution_count": null,
   "metadata": {},
   "outputs": [],
   "source": [
    "# Removes error files from the list of file names\n",
    "for each in file_names:\n",
    "    with open(each, \"r\", encoding='utf-8') as file:\n",
    "        content = BeautifulSoup(file.read(), 'html.parser')\n",
    "        text = content.get_text()\n",
    "        text = text.strip()\n",
    "        match1 = re.match(r\".*Not found.*\" ,text)\n",
    "        match2 = re.match(r\".*Error.*\", text)\n",
    "        if match1 != None or match2 != None:\n",
    "            print(each)\n",
    "            file_names.remove(each)"
   ]
  },
  {
   "cell_type": "code",
   "execution_count": 4,
   "metadata": {},
   "outputs": [
    {
     "data": {
      "text/plain": [
       "3116"
      ]
     },
     "execution_count": 4,
     "metadata": {},
     "output_type": "execute_result"
    }
   ],
   "source": [
    "len(file_names)"
   ]
  },
  {
   "cell_type": "code",
   "execution_count": 5,
   "metadata": {},
   "outputs": [],
   "source": [
    "def get_title(content):\n",
    "    '''Extracts the job title from the postings using 4 different tags from the html'''\n",
    "    title = content.find(\"h3\", class_ = \"icl-u-xs-mb--xs icl-u-xs-mt--none jobsearch-JobInfoHeader-title\")\n",
    "    if title != None:\n",
    "        job_info_title = title.text\n",
    "    else:\n",
    "        title = content.find(\"h1\", class_ = \"subhead\")\n",
    "        if title != None:\n",
    "            job_info_title = title.text\n",
    "        else:\n",
    "            title = content.find(\"div\", class_ = \"job-header\")\n",
    "            if title != None:\n",
    "                job_info_title = title.find(\"h1\").text\n",
    "            else:\n",
    "                job_info_title = \"Not Found\"\n",
    "    return job_info_title"
   ]
  },
  {
   "cell_type": "code",
   "execution_count": 6,
   "metadata": {},
   "outputs": [],
   "source": [
    "def get_job_info(content):\n",
    "    '''Extracts the information on company name and location from the html based on4 different tags'''\n",
    "    loc = content.find(\"div\", class_ = \"jobsearch-InlineCompanyRating icl-u-xs-mt--xs jobsearch-DesktopStickyContainer-companyrating\")\n",
    "    if loc != None:\n",
    "        job_info_loc = loc.text\n",
    "    else:\n",
    "        loc = content.find(\"div\", class_ = \"jobsearch-CompanyInfoWithoutHeaderImage jobsearch-CompanyInfoWithReview\")\n",
    "        if loc != None:\n",
    "            children = loc.findChildren()\n",
    "            company = children[1].text\n",
    "            reviews = children[2].text\n",
    "            location = children[len(children)-1].text\n",
    "            job_info_loc = company + \",\" + reviews + \"-\" + location\n",
    "        else:\n",
    "            loc = content.find(\"div\", class_ = \"location\")\n",
    "            if loc != None:\n",
    "                job_info_loc = \" , -\" + loc.text.strip()\n",
    "            else:\n",
    "                loc = content.find(\"div\", class_ = \"jobsearch-CompanyInfoWithoutHeaderImage\")\n",
    "                if loc != None:\n",
    "                    children = loc.findChildren()\n",
    "                    company = children[0].text\n",
    "                    location = children[1].text\n",
    "                    job_info_loc = company + \",\" + \" -\" + location\n",
    "                else:\n",
    "                    job_info_loc = \"Not found\"\n",
    "    return job_info_loc"
   ]
  },
  {
   "cell_type": "code",
   "execution_count": 7,
   "metadata": {},
   "outputs": [],
   "source": [
    "def get_job_desc(content):\n",
    "    '''Extracts the job posting information as one big blob of text from the html based on 2 different tags'''\n",
    "    desc = content.find(\"div\", class_ = \"jobsearch-jobDescriptionText\")\n",
    "    if desc != None:\n",
    "        job_desc = desc.text\n",
    "    else:\n",
    "        desc = content.find(\"div\", class_ = \"job-details span9\")\n",
    "        if desc != None:\n",
    "            job_desc = desc.text\n",
    "        else:\n",
    "            job_desc = \"Not found\"\n",
    "    return job_desc"
   ]
  },
  {
   "cell_type": "code",
   "execution_count": 8,
   "metadata": {},
   "outputs": [],
   "source": [
    "def get_salary(content):\n",
    "    '''Extracts Salary information if available from the html page based on <p> tag and regex pattern match'''\n",
    "    flag = 0\n",
    "    z = content.findAll(\"p\")\n",
    "    if z != None:\n",
    "        for z1 in z:\n",
    "            if re.match(\"Salary:.*\", z1.text):\n",
    "                flag = 1\n",
    "                salary = z1.text\n",
    "    if flag != 1:\n",
    "        salary = \"Not Found\"\n",
    "    return salary"
   ]
  },
  {
   "cell_type": "code",
   "execution_count": 10,
   "metadata": {},
   "outputs": [],
   "source": [
    "job_info_title = []\n",
    "job_info_loc = []\n",
    "job_info_desc = []\n",
    "job_info_sal = []\n",
    "# Loops over all the files and uses functions to get job_title, job_location, job_description and salary information \n",
    "# from the html and stores them in a list\n",
    "for each in file_names:\n",
    "    with open(each, \"r\", encoding='utf-8') as file:\n",
    "        content = BeautifulSoup(file.read(), 'html.parser')\n",
    "        job_info_title.append(get_title(content))\n",
    "        job_info_loc.append(get_job_info(content))\n",
    "        job_info_desc.append(get_job_desc(content))\n",
    "        job_info_sal.append(get_salary(content))"
   ]
  },
  {
   "cell_type": "code",
   "execution_count": 11,
   "metadata": {},
   "outputs": [
    {
     "data": {
      "text/plain": [
       "3116"
      ]
     },
     "execution_count": 11,
     "metadata": {},
     "output_type": "execute_result"
    }
   ],
   "source": [
    "len(job_info_sal)"
   ]
  },
  {
   "cell_type": "code",
   "execution_count": 12,
   "metadata": {},
   "outputs": [],
   "source": [
    "# Extracting information (company name, no of reviews, location) from the location data using delimiters such as - and ,.\n",
    "# If else is used to handle different kind of combinations available on the website. ex: BMC,124 reviews-SF,CA 91101 or Twitter-SF\n",
    "job_info_company = []\n",
    "job_info_location = []\n",
    "job_info_reviews = []\n",
    "for i in job_info_loc:\n",
    "    info = i.rsplit(\"-\", 1)\n",
    "    if len(info) == 3:\n",
    "        job_info_company.append(info[0])\n",
    "        job_info_reviews.append(info[1])\n",
    "        job_info_location.append(info[2])\n",
    "    else:\n",
    "        info2 = info[0].split(\",\")\n",
    "        job_info_company.append(info2[0])\n",
    "        if len(info2) > 1:\n",
    "            job_info_reviews.append(info2[1])\n",
    "        else:\n",
    "            job_info_reviews.append(\"\")\n",
    "        if len(info) > 1:\n",
    "            job_info_location.append(info[1])\n",
    "        else:\n",
    "            job_info_location.append(\"\")"
   ]
  },
  {
   "cell_type": "code",
   "execution_count": 13,
   "metadata": {},
   "outputs": [],
   "source": [
    "# Creates a dataframe by combining all the lists\n",
    "job_details = pd.DataFrame(list(zip(job_info_title, job_info_company, job_info_location, job_info_reviews, job_info_desc, job_info_sal)), columns = [\"Title\", \"Company\", \"Location\", \"Reviews\", \"Description\", \"Salary\"])"
   ]
  },
  {
   "cell_type": "code",
   "execution_count": 14,
   "metadata": {},
   "outputs": [],
   "source": [
    "# Tidying the reviews columns\n",
    "job_details[\"Reviews\"] = job_details[\"Reviews\"].replace(r\"[^0-9\\n]*([0-9]*.*)\", r\"\\1\", regex = True)\n",
    "# Extracts City from the location\n",
    "job_details[\"City\"] = job_details[\"Location\"].replace(r\"([a-zA-Z\\s]+),.*\", r\"\\1\", regex = True)\n",
    "# Extracts State from the location\n",
    "job_details[\"State\"] = job_details[\"Location\"].replace(r\"[a-zA-Z\\s]+,\\s([A-Z]{2}).*\", r\"\\1\", regex = True)\n",
    "# Extracts Pincode from the location\n",
    "job_details[\"Pincode\"] = job_details[\"Location\"].replace(r\"[a-zA-Z\\s]+,\\s[A-Z]{2}\\s?([0-9]+)?\", r\"\\1\", regex = True)\n",
    "# Identify the records thave have company name and reviews combined and combine them with , as delimiter\n",
    "job_details[\"Company\"] = job_details[\"Company\"].replace(r\"([^0-9]*)([0-9]+\\sreviews)\", r\"\\1,\\2\", regex = True)"
   ]
  },
  {
   "cell_type": "code",
   "execution_count": 15,
   "metadata": {},
   "outputs": [],
   "source": [
    "#Extract company name and reviews based on comma delimiter\n",
    "for i in range(len(job_details)):\n",
    "    if(\",\" in job_details[\"Company\"][i]):\n",
    "        info = job_details[\"Company\"][i].split(\",\")\n",
    "        job_details[\"Company\"][i] = info[0]\n",
    "        job_details[\"Reviews\"][i] = info[1]"
   ]
  },
  {
   "cell_type": "code",
   "execution_count": 16,
   "metadata": {},
   "outputs": [],
   "source": [
    "# Drop location\n",
    "job_details.drop(columns = [\"Location\"], inplace = True)"
   ]
  },
  {
   "cell_type": "code",
   "execution_count": 17,
   "metadata": {},
   "outputs": [],
   "source": [
    "# Extract salary information from the text\n",
    "job_details[\"Salary\"] = job_details[\"Salary\"].replace(r\"Salary:\\s(.*)\", r\"\\1\", regex = True)\n",
    "job_details[\"Salary\"] = job_details[\"Salary\"].replace(r\"(.*)\\sannually.*\", r\"\\1\", regex = True)"
   ]
  },
  {
   "cell_type": "code",
   "execution_count": 18,
   "metadata": {},
   "outputs": [],
   "source": [
    "# replace salary columns as - if not available\n",
    "for i in range(len(job_details)):\n",
    "    if job_details[\"Salary\"][i] == \"Not Found\":\n",
    "        job_details[\"Salary\"][i] = \"-\""
   ]
  },
  {
   "cell_type": "code",
   "execution_count": 19,
   "metadata": {},
   "outputs": [],
   "source": [
    "# Set the source value as Indeed\n",
    "job_details[\"Source\"] = \"Indeed\""
   ]
  },
  {
   "cell_type": "code",
   "execution_count": 20,
   "metadata": {},
   "outputs": [],
   "source": [
    "# Write the results to a csv file\n",
    "job_details.to_csv(\"indeed_data.csv\")"
   ]
  },
  {
   "cell_type": "code",
   "execution_count": 21,
   "metadata": {},
   "outputs": [
    {
     "data": {
      "text/plain": [
       "3116"
      ]
     },
     "execution_count": 21,
     "metadata": {},
     "output_type": "execute_result"
    }
   ],
   "source": [
    "len(job_details)"
   ]
  },
  {
   "cell_type": "code",
   "execution_count": 50,
   "metadata": {},
   "outputs": [],
   "source": [
    "# Combine the results from multiple csv files\n",
    "job_listing1 = pd.read_csv(\"indeed_data_V.csv\")\n",
    "job_listing2 = pd.read_csv(\"indeed_data_K.csv\")\n",
    "job_listing3 = pd.read_csv(\"indeed_data_C.csv\")\n",
    "job_listing4 = pd.read_csv(\"indeed_data_N.csv\")"
   ]
  },
  {
   "cell_type": "code",
   "execution_count": 51,
   "metadata": {},
   "outputs": [
    {
     "data": {
      "text/plain": [
       "3116"
      ]
     },
     "execution_count": 51,
     "metadata": {},
     "output_type": "execute_result"
    }
   ],
   "source": [
    "len(job_listing1)"
   ]
  },
  {
   "cell_type": "code",
   "execution_count": 52,
   "metadata": {},
   "outputs": [
    {
     "data": {
      "text/plain": [
       "1931"
      ]
     },
     "execution_count": 52,
     "metadata": {},
     "output_type": "execute_result"
    }
   ],
   "source": [
    "len(job_listing2)"
   ]
  },
  {
   "cell_type": "code",
   "execution_count": 53,
   "metadata": {},
   "outputs": [
    {
     "data": {
      "text/plain": [
       "1052"
      ]
     },
     "execution_count": 53,
     "metadata": {},
     "output_type": "execute_result"
    }
   ],
   "source": [
    "len(job_listing3)"
   ]
  },
  {
   "cell_type": "code",
   "execution_count": 54,
   "metadata": {},
   "outputs": [
    {
     "data": {
      "text/plain": [
       "6155"
      ]
     },
     "execution_count": 54,
     "metadata": {},
     "output_type": "execute_result"
    }
   ],
   "source": [
    "len(job_listing4)"
   ]
  },
  {
   "cell_type": "code",
   "execution_count": 55,
   "metadata": {},
   "outputs": [],
   "source": [
    "# Combine the results into a singe dataframe\n",
    "job_listings = pd.concat([job_listing1, job_listing2, job_listing3, job_listing4])"
   ]
  },
  {
   "cell_type": "code",
   "execution_count": 56,
   "metadata": {},
   "outputs": [
    {
     "data": {
      "text/plain": [
       "12254"
      ]
     },
     "execution_count": 56,
     "metadata": {},
     "output_type": "execute_result"
    }
   ],
   "source": [
    "len(job_listings)"
   ]
  },
  {
   "cell_type": "code",
   "execution_count": 57,
   "metadata": {},
   "outputs": [
    {
     "name": "stdout",
     "output_type": "stream",
     "text": [
      "<class 'pandas.core.frame.DataFrame'>\n",
      "RangeIndex: 6011 entries, 0 to 6010\n",
      "Data columns (total 9 columns):\n",
      " #   Column       Non-Null Count  Dtype \n",
      "---  ------       --------------  ----- \n",
      " 0   Title        6011 non-null   object\n",
      " 1   Company      6011 non-null   object\n",
      " 2   Reviews      4560 non-null   object\n",
      " 3   Description  6011 non-null   object\n",
      " 4   Salary       6011 non-null   object\n",
      " 5   City         6004 non-null   object\n",
      " 6   State        6004 non-null   object\n",
      " 7   Pincode      3168 non-null   object\n",
      " 8   Source       6011 non-null   object\n",
      "dtypes: object(9)\n",
      "memory usage: 422.8+ KB\n"
     ]
    }
   ],
   "source": [
    "job_listings.drop(['Unnamed: 0'], axis=1, inplace = True)\n",
    "# Remove redundant rows\n",
    "job_listings = job_listings.drop_duplicates().reset_index(drop=True)\n",
    "job_listings.info()"
   ]
  },
  {
   "cell_type": "code",
   "execution_count": 58,
   "metadata": {},
   "outputs": [
    {
     "data": {
      "text/plain": [
       "6011"
      ]
     },
     "execution_count": 58,
     "metadata": {},
     "output_type": "execute_result"
    }
   ],
   "source": [
    "len(job_listings)"
   ]
  },
  {
   "cell_type": "code",
   "execution_count": 45,
   "metadata": {},
   "outputs": [],
   "source": [
    "def removeNonAscii(s): return \"\".join(i for i in s if ord(i)<128)"
   ]
  },
  {
   "cell_type": "code",
   "execution_count": 61,
   "metadata": {},
   "outputs": [],
   "source": [
    "# Removes non ascii characters\n",
    "job_listings[\"Description\"] = job_listings[\"Description\"].apply(removeNonAscii)\n",
    "job_listings[\"Title\"] = job_listings[\"Title\"].apply(removeNonAscii)\n",
    "job_listings[\"Company\"] = job_listings[\"Company\"].apply(removeNonAscii)"
   ]
  },
  {
   "cell_type": "code",
   "execution_count": 62,
   "metadata": {},
   "outputs": [],
   "source": [
    "# Create a csv file with the de-duplicated results\n",
    "job_listings.to_csv(\"indeed_job_listings.csv\")"
   ]
  }
 ],
 "metadata": {
  "kernelspec": {
   "display_name": "Python 3",
   "language": "python",
   "name": "python3"
  },
  "language_info": {
   "codemirror_mode": {
    "name": "ipython",
    "version": 3
   },
   "file_extension": ".py",
   "mimetype": "text/x-python",
   "name": "python",
   "nbconvert_exporter": "python",
   "pygments_lexer": "ipython3",
   "version": "3.7.3"
  },
  "toc": {
   "base_numbering": 1,
   "nav_menu": {},
   "number_sections": true,
   "sideBar": true,
   "skip_h1_title": false,
   "title_cell": "Table of Contents",
   "title_sidebar": "Contents",
   "toc_cell": false,
   "toc_position": {},
   "toc_section_display": true,
   "toc_window_display": false
  },
  "varInspector": {
   "cols": {
    "lenName": 16,
    "lenType": 16,
    "lenVar": 40
   },
   "kernels_config": {
    "python": {
     "delete_cmd_postfix": "",
     "delete_cmd_prefix": "del ",
     "library": "var_list.py",
     "varRefreshCmd": "print(var_dic_list())"
    },
    "r": {
     "delete_cmd_postfix": ") ",
     "delete_cmd_prefix": "rm(",
     "library": "var_list.r",
     "varRefreshCmd": "cat(var_dic_list()) "
    }
   },
   "types_to_exclude": [
    "module",
    "function",
    "builtin_function_or_method",
    "instance",
    "_Feature"
   ],
   "window_display": false
  }
 },
 "nbformat": 4,
 "nbformat_minor": 4
}
